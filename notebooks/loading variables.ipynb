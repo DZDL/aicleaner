{
 "cells": [
  {
   "cell_type": "code",
   "execution_count": 7,
   "id": "motivated-benjamin",
   "metadata": {},
   "outputs": [],
   "source": [
    "import numpy as np\n",
    "import librosa"
   ]
  },
  {
   "cell_type": "code",
   "execution_count": 8,
   "id": "subjective-visit",
   "metadata": {
    "scrolled": true
   },
   "outputs": [
    {
     "name": "stdout",
     "output_type": "stream",
     "text": [
      "total 12\r\n",
      "-rw-r--r-- 1 god god 10375 mar 13 16:15 'loading variables.ipynb'\r\n"
     ]
    }
   ],
   "source": [
    "!ls -l"
   ]
  },
  {
   "cell_type": "code",
   "execution_count": 9,
   "id": "express-prime",
   "metadata": {},
   "outputs": [],
   "source": [
    "def audio_to_audio_frame_stack(sound_data, frame_length, hop_length_frame):\n",
    "    \"\"\"This function take an audio and split into several frame\n",
    "       in a numpy matrix of size (nb_frame,frame_length)\"\"\"\n",
    "\n",
    "    sequence_sample_length = sound_data.shape[0]\n",
    "    print(\"\\n[audio_to_audio_frame_stack][sound_data]\")\n",
    "    print(sound_data)\n",
    "    print(\"len(sound_data)\",len(sound_data))\n",
    "    print(\"type:\",type(sound_data))\n",
    "    \n",
    "    sound_data_list = [sound_data[start:start + frame_length] for start in range(0, sequence_sample_length - frame_length + 1, hop_length_frame)]  # get sliding windows\n",
    "    print(\"\\n[audio_to_audio_frame_stack][sound_data_list]\")\n",
    "    print(sound_data_list)\n",
    "    print(\"len(sound_data_list[0])\",len(sound_data_list[0]))\n",
    "    print(\"type:\",type(sound_data_list[0]))\n",
    "    sound_data_array = np.vstack(sound_data_list)\n",
    "    print(\"\\n[audio_to_audio_frame_stack][sound_data_array]\")\n",
    "    print(sound_data_array)\n",
    "    print(\"len(sound_data_array[0])\",len(sound_data_array[0]))\n",
    "    print(\"type:\",type(sound_data_array[0]))\n",
    "    \n",
    "    if sound_data_array[0].all()==np.asarray(sound_data_list[0]).all():\n",
    "        print(\"\\nIt's the same\")\n",
    "    \n",
    "    return sound_data_array"
   ]
  },
  {
   "cell_type": "code",
   "execution_count": 4,
   "id": "configured-rapid",
   "metadata": {
    "scrolled": false
   },
   "outputs": [
    {
     "name": "stdout",
     "output_type": "stream",
     "text": [
      "------------------------------------------------\n",
      "[0.01051858 0.01665545 0.01343461 ... 0.0015811  0.00319288 0.        ]\n",
      "------------------------------------------------\n",
      "\n",
      "[audio_to_audio_frame_stack][sound_data]\n",
      "[0.01051858 0.01665545 0.01343461 ... 0.0015811  0.00319288 0.        ]\n",
      "len(sound_data) 9474\n",
      "type: <class 'numpy.ndarray'>\n",
      "\n",
      "[audio_to_audio_frame_stack][sound_data_list]\n",
      "[array([ 0.01051858,  0.01665545,  0.01343461, ..., -0.01404797,\n",
      "       -0.01248218, -0.01130061], dtype=float32)]\n",
      "len(sound_data_list[0]) 8064\n",
      "type: <class 'numpy.ndarray'>\n",
      "\n",
      "[audio_to_audio_frame_stack][sound_data_array]\n",
      "[[ 0.01051858  0.01665545  0.01343461 ... -0.01404797 -0.01248218\n",
      "  -0.01130061]]\n",
      "len(sound_data_array[0]) 8064\n",
      "type: <class 'numpy.ndarray'>\n",
      "\n",
      "It's the same\n"
     ]
    }
   ],
   "source": [
    "list_sound_array = []\n",
    "\n",
    "# open the audio file\n",
    "y, sr = librosa.load('../temporal/input.wav', sr=8000)\n",
    "print(\"------------------------------------------------\")\n",
    "print(y)\n",
    "print(\"------------------------------------------------\")\n",
    "total_duration = librosa.get_duration(y=y, sr=sr)\n",
    "\n",
    "if (total_duration >= 1.0):\n",
    "    list_sound_array.append(audio_to_audio_frame_stack(sound_data=y, frame_length=8064, hop_length_frame=8064))\n",
    "else:\n",
    "    print(f\"The following file {os.path.join(audio_dir,file)} is below the min duration\")"
   ]
  },
  {
   "cell_type": "code",
   "execution_count": 5,
   "id": "legitimate-essex",
   "metadata": {},
   "outputs": [
    {
     "data": {
      "text/plain": [
       "8000"
      ]
     },
     "execution_count": 5,
     "metadata": {},
     "output_type": "execute_result"
    }
   ],
   "source": [
    "sr"
   ]
  },
  {
   "cell_type": "code",
   "execution_count": 6,
   "id": "greatest-budget",
   "metadata": {
    "scrolled": true
   },
   "outputs": [
    {
     "data": {
      "text/plain": [
       "[array([[ 0.01051858,  0.01665545,  0.01343461, ..., -0.01404797,\n",
       "         -0.01248218, -0.01130061]], dtype=float32)]"
      ]
     },
     "execution_count": 6,
     "metadata": {},
     "output_type": "execute_result"
    }
   ],
   "source": [
    "list_sound_array"
   ]
  },
  {
   "cell_type": "code",
   "execution_count": 15,
   "id": "limited-lawsuit",
   "metadata": {},
   "outputs": [
    {
     "data": {
      "text/plain": [
       "array([[-0.01986422, -0.03605039, -0.03192531, ...,  0.01971811,\n",
       "         0.02379909,  0.01925763]], dtype=float32)"
      ]
     },
     "execution_count": 15,
     "metadata": {},
     "output_type": "execute_result"
    }
   ],
   "source": [
    "audio_data=np.vstack(list_sound_array)\n",
    "audio_data"
   ]
  },
  {
   "cell_type": "code",
   "execution_count": 16,
   "id": "radio-supply",
   "metadata": {},
   "outputs": [
    {
     "data": {
      "text/plain": [
       "array([[-0.01986422, -0.03605039, -0.03192531, ...,  0.01971811,\n",
       "         0.02379909,  0.01925763]], dtype=float32)"
      ]
     },
     "execution_count": 16,
     "metadata": {},
     "output_type": "execute_result"
    }
   ],
   "source": [
    "list_sound_array[0]"
   ]
  },
  {
   "cell_type": "code",
   "execution_count": 18,
   "id": "peaceful-supplier",
   "metadata": {
    "scrolled": false
   },
   "outputs": [
    {
     "name": "stdout",
     "output_type": "stream",
     "text": [
      "It's the same\n"
     ]
    }
   ],
   "source": [
    "if list_sound_array[0].all()==audio_data.all():\n",
    "    print(\"It's the same\")"
   ]
  },
  {
   "cell_type": "code",
   "execution_count": 29,
   "id": "fuzzy-warner",
   "metadata": {},
   "outputs": [
    {
     "data": {
      "text/plain": [
       "array([-0.01986422, -0.03605039, -0.03192531, ...,  0.01971811,\n",
       "        0.02379909,  0.01925763], dtype=float32)"
      ]
     },
     "execution_count": 29,
     "metadata": {},
     "output_type": "execute_result"
    }
   ],
   "source": [
    "audio_data[0]"
   ]
  },
  {
   "cell_type": "code",
   "execution_count": 28,
   "id": "precise-blank",
   "metadata": {},
   "outputs": [
    {
     "data": {
      "text/plain": [
       "8064"
      ]
     },
     "execution_count": 28,
     "metadata": {},
     "output_type": "execute_result"
    }
   ],
   "source": [
    "len(audio_data[0])"
   ]
  },
  {
   "cell_type": "code",
   "execution_count": 34,
   "id": "saved-distinction",
   "metadata": {
    "scrolled": true
   },
   "outputs": [
    {
     "data": {
      "text/plain": [
       "array([-0.01986422, -0.03605039, -0.03192531, ..., -0.08180985,\n",
       "       -0.05730203,  0.        ], dtype=float32)"
      ]
     },
     "execution_count": 34,
     "metadata": {},
     "output_type": "execute_result"
    }
   ],
   "source": [
    "y"
   ]
  },
  {
   "cell_type": "code",
   "execution_count": 44,
   "id": "reasonable-patent",
   "metadata": {},
   "outputs": [
    {
     "data": {
      "text/plain": [
       "8064"
      ]
     },
     "execution_count": 44,
     "metadata": {},
     "output_type": "execute_result"
    }
   ],
   "source": [
    "audio_data[0].shape[0]"
   ]
  },
  {
   "cell_type": "markdown",
   "id": "minimal-mystery",
   "metadata": {},
   "source": [
    "### 2nd method\n",
    "loading as array and hstack"
   ]
  },
  {
   "cell_type": "code",
   "execution_count": 41,
   "id": "conservative-solomon",
   "metadata": {
    "scrolled": true
   },
   "outputs": [
    {
     "name": "stdout",
     "output_type": "stream",
     "text": [
      "It's not the same\n",
      "audio_data[0] len: \t 8064\n",
      "y librosa len: \t\t 9474\n"
     ]
    }
   ],
   "source": [
    "if audio_data[0].all()==y.all():\n",
    "    print(\"It's the same\")\n",
    "else:\n",
    "    print(\"It's not the same\")\n",
    "    print('audio_data[0] len: \\t',len(audio_data[0]))\n",
    "    print('y librosa len: \\t\\t',len(y))"
   ]
  },
  {
   "cell_type": "code",
   "execution_count": 107,
   "id": "bronze-lawyer",
   "metadata": {},
   "outputs": [
    {
     "data": {
      "text/plain": [
       "[array([1, 2]), array([3, 4]), array([5, 6]), array([7, 8]), array([ 9, 10])]"
      ]
     },
     "execution_count": 107,
     "metadata": {},
     "output_type": "execute_result"
    }
   ],
   "source": [
    "x=np.asarray([1 ,2, 3, 4, 5, 6, 7, 8, 9, 10])\n",
    "a=2 # frame_length\n",
    "b=a # hop_length_frame\n",
    "y = [x[start:start + a] for start in range(0, len(x) - a + 1, b)] \n",
    "y"
   ]
  },
  {
   "cell_type": "code",
   "execution_count": 109,
   "id": "musical-statement",
   "metadata": {},
   "outputs": [
    {
     "data": {
      "text/plain": [
       "[[array([1, 2]), array([3, 4]), array([5, 6]), array([7, 8]), array([ 9, 10])]]"
      ]
     },
     "execution_count": 109,
     "metadata": {},
     "output_type": "execute_result"
    }
   ],
   "source": [
    "list_sound_array = []\n",
    "\n",
    "list_sound_array.append(y)\n",
    "list_sound_array"
   ]
  },
  {
   "cell_type": "code",
   "execution_count": 110,
   "id": "roman-recall",
   "metadata": {
    "scrolled": true
   },
   "outputs": [
    {
     "data": {
      "text/plain": [
       "array([[ 1,  2],\n",
       "       [ 3,  4],\n",
       "       [ 5,  6],\n",
       "       [ 7,  8],\n",
       "       [ 9, 10]])"
      ]
     },
     "execution_count": 110,
     "metadata": {},
     "output_type": "execute_result"
    }
   ],
   "source": [
    "np.vstack(list_sound_array)"
   ]
  },
  {
   "cell_type": "code",
   "execution_count": 34,
   "id": "radio-exclusive",
   "metadata": {
    "scrolled": true
   },
   "outputs": [
    {
     "data": {
      "text/plain": [
       "[array([ 0.01535975,  0.01535975,  0.01535975,  1.2       , -3.2       ]),\n",
       " array([ 3.2,  3.2, -3.2,  3.2,  3.2]),\n",
       " array([ 8. ,  3.2,  3.2,  3.2, 11. ]),\n",
       " array([0. , 3.2, 3.2, 3.2, 3.2]),\n",
       " array([3.2, 3.2, 3.2, 1. , 2. ])]"
      ]
     },
     "execution_count": 34,
     "metadata": {},
     "output_type": "execute_result"
    }
   ],
   "source": [
    "myaudio=[[0.01535975], [0.01535975],[0.01535975],[1.2],[-3.2],[3.2],[3.2],[-3.2],[3.2],[3.2],[8],[3.2],[3.2],[3.2],[11],[0],[3.2],[3.2],[3.2],[3.2],[3.2],[3.2],[3.2],[1],[2],[3],]\n",
    "myaudio=np.hstack(myaudio)\n",
    "a=5 # frame_length\n",
    "b=a # hop_length_frame\n",
    "y = [myaudio[start:start + a] for start in range(0, len(myaudio) - a + 1, b)] \n",
    "y"
   ]
  },
  {
   "cell_type": "code",
   "execution_count": 35,
   "id": "crazy-jumping",
   "metadata": {},
   "outputs": [
    {
     "data": {
      "text/plain": [
       "26"
      ]
     },
     "execution_count": 35,
     "metadata": {},
     "output_type": "execute_result"
    }
   ],
   "source": [
    "len(myaudio)"
   ]
  },
  {
   "cell_type": "code",
   "execution_count": 36,
   "id": "based-james",
   "metadata": {},
   "outputs": [
    {
     "data": {
      "text/plain": [
       "array([[ 0.01535975,  0.01535975,  0.01535975,  1.2       , -3.2       ],\n",
       "       [ 3.2       ,  3.2       , -3.2       ,  3.2       ,  3.2       ],\n",
       "       [ 8.        ,  3.2       ,  3.2       ,  3.2       , 11.        ],\n",
       "       [ 0.        ,  3.2       ,  3.2       ,  3.2       ,  3.2       ],\n",
       "       [ 3.2       ,  3.2       ,  3.2       ,  1.        ,  2.        ]])"
      ]
     },
     "execution_count": 36,
     "metadata": {},
     "output_type": "execute_result"
    }
   ],
   "source": [
    "y=np.vstack(y)\n",
    "y"
   ]
  },
  {
   "cell_type": "markdown",
   "id": "aquatic-authorization",
   "metadata": {},
   "source": [
    "### 3rd method\n",
    "\n",
    "resampling by librosa"
   ]
  },
  {
   "cell_type": "code",
   "execution_count": 40,
   "id": "thorough-trunk",
   "metadata": {},
   "outputs": [],
   "source": [
    "from librosa import resample\n",
    "import numpy as np"
   ]
  },
  {
   "cell_type": "code",
   "execution_count": 51,
   "id": "processed-wholesale",
   "metadata": {},
   "outputs": [],
   "source": [
    "myaudio=[[0.01535975], [0.01535975],[0.01535975],[1.2],[-3.2],[3.2],[3.2],[-3.2],[3.2],[3.2],[8],[3.2],[3.2],[3.2],[11],[0],[3.2],[3.2],[3.2],[3.2],[3.2],[3.2],[3.2],[1],[2],[3],]\n",
    "myaudio=np.asarray(myaudio)\n",
    "\n",
    "mydata=np.hstack(myaudio)\n",
    "mydata_resampled=resample(mydata, 44100, 8000, res_type='kaiser_best')\n",
    "\n",
    "a=1 # frame_length\n",
    "b=1 # hop_length_frame\n",
    "y = [mydata_resampled[start:start + a] for start in range(0, len(mydata_resampled) - a + 1, b)] \n",
    "audio=np.vstack(y)"
   ]
  },
  {
   "cell_type": "code",
   "execution_count": 52,
   "id": "interim-register",
   "metadata": {},
   "outputs": [
    {
     "data": {
      "text/plain": [
       "array([[-0.16917248],\n",
       "       [ 0.92294362],\n",
       "       [ 4.45774   ],\n",
       "       [ 3.74999583],\n",
       "       [ 0.        ]])"
      ]
     },
     "execution_count": 52,
     "metadata": {},
     "output_type": "execute_result"
    }
   ],
   "source": [
    "audio"
   ]
  }
 ],
 "metadata": {
  "kernelspec": {
   "display_name": "Python 3",
   "language": "python",
   "name": "python3"
  },
  "language_info": {
   "codemirror_mode": {
    "name": "ipython",
    "version": 3
   },
   "file_extension": ".py",
   "mimetype": "text/x-python",
   "name": "python",
   "nbconvert_exporter": "python",
   "pygments_lexer": "ipython3",
   "version": "3.7.9"
  }
 },
 "nbformat": 4,
 "nbformat_minor": 5
}
